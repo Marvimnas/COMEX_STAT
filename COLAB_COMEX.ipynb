{
  "nbformat": 4,
  "nbformat_minor": 0,
  "metadata": {
    "colab": {
      "provenance": [],
      "authorship_tag": "ABX9TyO/Ogq1N3rwqHztuoJiVICG",
      "include_colab_link": true
    },
    "kernelspec": {
      "name": "python3",
      "display_name": "Python 3"
    },
    "language_info": {
      "name": "python"
    }
  },
  "cells": [
    {
      "cell_type": "markdown",
      "metadata": {
        "id": "view-in-github",
        "colab_type": "text"
      },
      "source": [
        "<a href=\"https://colab.research.google.com/github/Marvimnas/COMEX_STAT/blob/main/COLAB_COMEX.ipynb\" target=\"_parent\"><img src=\"https://colab.research.google.com/assets/colab-badge.svg\" alt=\"Open In Colab\"/></a>"
      ]
    },
    {
      "cell_type": "code",
      "execution_count": 1,
      "metadata": {
        "id": "fEL5E5YjNA7w"
      },
      "outputs": [],
      "source": [
        "import pandas as pd\n",
        "from google.colab import drive"
      ]
    },
    {
      "cell_type": "code",
      "source": [
        "drive.mount('/content/drive')"
      ],
      "metadata": {
        "id": "YcSuGvIlOb40",
        "colab": {
          "base_uri": "https://localhost:8080/"
        },
        "outputId": "1a9b54af-e8f3-4db0-9e3a-aa3e9219f6f2"
      },
      "execution_count": 2,
      "outputs": [
        {
          "output_type": "stream",
          "name": "stdout",
          "text": [
            "Mounted at /content/drive\n"
          ]
        }
      ]
    },
    {
      "cell_type": "code",
      "source": [
        "origem = '/content/drive/My Drive/Data/COMEXSTAT/'\n",
        "destino = '/content/drive/My Drive/Data/'"
      ],
      "metadata": {
        "id": "ZvAYsF8SN_wA"
      },
      "execution_count": 3,
      "outputs": []
    },
    {
      "cell_type": "code",
      "source": [
        "file_1 = origem + 'IMP_2024.csv'\n",
        "file_2 = origem + 'IMP_2025.csv'\n",
        "file_3 = origem + 'NCM.csv'\n",
        "imp24 = pd.read_csv(file_1, low_memory=False, sep =';',encoding ='UTF-8')\n",
        "imp25 = pd.read_csv(file_2, low_memory=False, sep =';',encoding ='UTF-8')\n",
        "ncm = pd.read_csv(file_3, low_memory=False, sep =';',encoding ='latin1')"
      ],
      "metadata": {
        "id": "IQvO0zAWOtPM"
      },
      "execution_count": 5,
      "outputs": []
    },
    {
      "cell_type": "code",
      "source": [
        "imp_final = pd.concat([imp24, imp25], ignore_index=True)\n",
        "imp_final.info()"
      ],
      "metadata": {
        "colab": {
          "base_uri": "https://localhost:8080/"
        },
        "id": "bQsJDJdFgfHc",
        "outputId": "cdd7ef07-d1f0-4d1d-c5a2-af9b444d1f3e"
      },
      "execution_count": 10,
      "outputs": [
        {
          "output_type": "stream",
          "name": "stdout",
          "text": [
            "<class 'pandas.core.frame.DataFrame'>\n",
            "RangeIndex: 2667928 entries, 0 to 2667927\n",
            "Data columns (total 13 columns):\n",
            " #   Column      Dtype \n",
            "---  ------      ----- \n",
            " 0   CO_ANO      int64 \n",
            " 1   CO_MES      int64 \n",
            " 2   CO_NCM      int64 \n",
            " 3   CO_UNID     int64 \n",
            " 4   CO_PAIS     int64 \n",
            " 5   SG_UF_NCM   object\n",
            " 6   CO_VIA      int64 \n",
            " 7   CO_URF      int64 \n",
            " 8   QT_ESTAT    int64 \n",
            " 9   KG_LIQUIDO  int64 \n",
            " 10  VL_FOB      int64 \n",
            " 11  VL_FRETE    int64 \n",
            " 12  VL_SEGURO   int64 \n",
            "dtypes: int64(12), object(1)\n",
            "memory usage: 264.6+ MB\n"
          ]
        }
      ]
    },
    {
      "cell_type": "code",
      "source": [
        "imp_final.head(5)"
      ],
      "metadata": {
        "id": "S9gES5ZfUGge",
        "outputId": "3b71ca44-ffcc-481b-e5d5-e46b64169fd2",
        "colab": {
          "base_uri": "https://localhost:8080/",
          "height": 206
        }
      },
      "execution_count": 11,
      "outputs": [
        {
          "output_type": "execute_result",
          "data": {
            "text/plain": [
              "   CO_ANO  CO_MES    CO_NCM  CO_UNID  CO_PAIS SG_UF_NCM  CO_VIA  CO_URF  \\\n",
              "0    2024      10  84818092       11      161        SC       1  927800   \n",
              "1    2024       4  90304090       11      249        SP       4  817700   \n",
              "2    2024       1  39172300       10       23        PE       4  417901   \n",
              "3    2024       6  85444200       10      160        MG       4  817700   \n",
              "4    2024      10  84439942       10      190        SC       4  817600   \n",
              "\n",
              "   QT_ESTAT  KG_LIQUIDO  VL_FOB  VL_FRETE  VL_SEGURO  \n",
              "0       344          90    6823        77         10  \n",
              "1         1           9    4890       147          7  \n",
              "2      1128        1128   28129     20688          7  \n",
              "3       824         824   66958     11276         45  \n",
              "4         3           3    2060        37          0  "
            ],
            "text/html": [
              "\n",
              "  <div id=\"df-1726bcc6-b918-4189-9255-0c29e1592aee\" class=\"colab-df-container\">\n",
              "    <div>\n",
              "<style scoped>\n",
              "    .dataframe tbody tr th:only-of-type {\n",
              "        vertical-align: middle;\n",
              "    }\n",
              "\n",
              "    .dataframe tbody tr th {\n",
              "        vertical-align: top;\n",
              "    }\n",
              "\n",
              "    .dataframe thead th {\n",
              "        text-align: right;\n",
              "    }\n",
              "</style>\n",
              "<table border=\"1\" class=\"dataframe\">\n",
              "  <thead>\n",
              "    <tr style=\"text-align: right;\">\n",
              "      <th></th>\n",
              "      <th>CO_ANO</th>\n",
              "      <th>CO_MES</th>\n",
              "      <th>CO_NCM</th>\n",
              "      <th>CO_UNID</th>\n",
              "      <th>CO_PAIS</th>\n",
              "      <th>SG_UF_NCM</th>\n",
              "      <th>CO_VIA</th>\n",
              "      <th>CO_URF</th>\n",
              "      <th>QT_ESTAT</th>\n",
              "      <th>KG_LIQUIDO</th>\n",
              "      <th>VL_FOB</th>\n",
              "      <th>VL_FRETE</th>\n",
              "      <th>VL_SEGURO</th>\n",
              "    </tr>\n",
              "  </thead>\n",
              "  <tbody>\n",
              "    <tr>\n",
              "      <th>0</th>\n",
              "      <td>2024</td>\n",
              "      <td>10</td>\n",
              "      <td>84818092</td>\n",
              "      <td>11</td>\n",
              "      <td>161</td>\n",
              "      <td>SC</td>\n",
              "      <td>1</td>\n",
              "      <td>927800</td>\n",
              "      <td>344</td>\n",
              "      <td>90</td>\n",
              "      <td>6823</td>\n",
              "      <td>77</td>\n",
              "      <td>10</td>\n",
              "    </tr>\n",
              "    <tr>\n",
              "      <th>1</th>\n",
              "      <td>2024</td>\n",
              "      <td>4</td>\n",
              "      <td>90304090</td>\n",
              "      <td>11</td>\n",
              "      <td>249</td>\n",
              "      <td>SP</td>\n",
              "      <td>4</td>\n",
              "      <td>817700</td>\n",
              "      <td>1</td>\n",
              "      <td>9</td>\n",
              "      <td>4890</td>\n",
              "      <td>147</td>\n",
              "      <td>7</td>\n",
              "    </tr>\n",
              "    <tr>\n",
              "      <th>2</th>\n",
              "      <td>2024</td>\n",
              "      <td>1</td>\n",
              "      <td>39172300</td>\n",
              "      <td>10</td>\n",
              "      <td>23</td>\n",
              "      <td>PE</td>\n",
              "      <td>4</td>\n",
              "      <td>417901</td>\n",
              "      <td>1128</td>\n",
              "      <td>1128</td>\n",
              "      <td>28129</td>\n",
              "      <td>20688</td>\n",
              "      <td>7</td>\n",
              "    </tr>\n",
              "    <tr>\n",
              "      <th>3</th>\n",
              "      <td>2024</td>\n",
              "      <td>6</td>\n",
              "      <td>85444200</td>\n",
              "      <td>10</td>\n",
              "      <td>160</td>\n",
              "      <td>MG</td>\n",
              "      <td>4</td>\n",
              "      <td>817700</td>\n",
              "      <td>824</td>\n",
              "      <td>824</td>\n",
              "      <td>66958</td>\n",
              "      <td>11276</td>\n",
              "      <td>45</td>\n",
              "    </tr>\n",
              "    <tr>\n",
              "      <th>4</th>\n",
              "      <td>2024</td>\n",
              "      <td>10</td>\n",
              "      <td>84439942</td>\n",
              "      <td>10</td>\n",
              "      <td>190</td>\n",
              "      <td>SC</td>\n",
              "      <td>4</td>\n",
              "      <td>817600</td>\n",
              "      <td>3</td>\n",
              "      <td>3</td>\n",
              "      <td>2060</td>\n",
              "      <td>37</td>\n",
              "      <td>0</td>\n",
              "    </tr>\n",
              "  </tbody>\n",
              "</table>\n",
              "</div>\n",
              "    <div class=\"colab-df-buttons\">\n",
              "\n",
              "  <div class=\"colab-df-container\">\n",
              "    <button class=\"colab-df-convert\" onclick=\"convertToInteractive('df-1726bcc6-b918-4189-9255-0c29e1592aee')\"\n",
              "            title=\"Convert this dataframe to an interactive table.\"\n",
              "            style=\"display:none;\">\n",
              "\n",
              "  <svg xmlns=\"http://www.w3.org/2000/svg\" height=\"24px\" viewBox=\"0 -960 960 960\">\n",
              "    <path d=\"M120-120v-720h720v720H120Zm60-500h600v-160H180v160Zm220 220h160v-160H400v160Zm0 220h160v-160H400v160ZM180-400h160v-160H180v160Zm440 0h160v-160H620v160ZM180-180h160v-160H180v160Zm440 0h160v-160H620v160Z\"/>\n",
              "  </svg>\n",
              "    </button>\n",
              "\n",
              "  <style>\n",
              "    .colab-df-container {\n",
              "      display:flex;\n",
              "      gap: 12px;\n",
              "    }\n",
              "\n",
              "    .colab-df-convert {\n",
              "      background-color: #E8F0FE;\n",
              "      border: none;\n",
              "      border-radius: 50%;\n",
              "      cursor: pointer;\n",
              "      display: none;\n",
              "      fill: #1967D2;\n",
              "      height: 32px;\n",
              "      padding: 0 0 0 0;\n",
              "      width: 32px;\n",
              "    }\n",
              "\n",
              "    .colab-df-convert:hover {\n",
              "      background-color: #E2EBFA;\n",
              "      box-shadow: 0px 1px 2px rgba(60, 64, 67, 0.3), 0px 1px 3px 1px rgba(60, 64, 67, 0.15);\n",
              "      fill: #174EA6;\n",
              "    }\n",
              "\n",
              "    .colab-df-buttons div {\n",
              "      margin-bottom: 4px;\n",
              "    }\n",
              "\n",
              "    [theme=dark] .colab-df-convert {\n",
              "      background-color: #3B4455;\n",
              "      fill: #D2E3FC;\n",
              "    }\n",
              "\n",
              "    [theme=dark] .colab-df-convert:hover {\n",
              "      background-color: #434B5C;\n",
              "      box-shadow: 0px 1px 3px 1px rgba(0, 0, 0, 0.15);\n",
              "      filter: drop-shadow(0px 1px 2px rgba(0, 0, 0, 0.3));\n",
              "      fill: #FFFFFF;\n",
              "    }\n",
              "  </style>\n",
              "\n",
              "    <script>\n",
              "      const buttonEl =\n",
              "        document.querySelector('#df-1726bcc6-b918-4189-9255-0c29e1592aee button.colab-df-convert');\n",
              "      buttonEl.style.display =\n",
              "        google.colab.kernel.accessAllowed ? 'block' : 'none';\n",
              "\n",
              "      async function convertToInteractive(key) {\n",
              "        const element = document.querySelector('#df-1726bcc6-b918-4189-9255-0c29e1592aee');\n",
              "        const dataTable =\n",
              "          await google.colab.kernel.invokeFunction('convertToInteractive',\n",
              "                                                    [key], {});\n",
              "        if (!dataTable) return;\n",
              "\n",
              "        const docLinkHtml = 'Like what you see? Visit the ' +\n",
              "          '<a target=\"_blank\" href=https://colab.research.google.com/notebooks/data_table.ipynb>data table notebook</a>'\n",
              "          + ' to learn more about interactive tables.';\n",
              "        element.innerHTML = '';\n",
              "        dataTable['output_type'] = 'display_data';\n",
              "        await google.colab.output.renderOutput(dataTable, element);\n",
              "        const docLink = document.createElement('div');\n",
              "        docLink.innerHTML = docLinkHtml;\n",
              "        element.appendChild(docLink);\n",
              "      }\n",
              "    </script>\n",
              "  </div>\n",
              "\n",
              "\n",
              "    <div id=\"df-886c09d5-57fe-485b-a538-78436b56cead\">\n",
              "      <button class=\"colab-df-quickchart\" onclick=\"quickchart('df-886c09d5-57fe-485b-a538-78436b56cead')\"\n",
              "                title=\"Suggest charts\"\n",
              "                style=\"display:none;\">\n",
              "\n",
              "<svg xmlns=\"http://www.w3.org/2000/svg\" height=\"24px\"viewBox=\"0 0 24 24\"\n",
              "     width=\"24px\">\n",
              "    <g>\n",
              "        <path d=\"M19 3H5c-1.1 0-2 .9-2 2v14c0 1.1.9 2 2 2h14c1.1 0 2-.9 2-2V5c0-1.1-.9-2-2-2zM9 17H7v-7h2v7zm4 0h-2V7h2v10zm4 0h-2v-4h2v4z\"/>\n",
              "    </g>\n",
              "</svg>\n",
              "      </button>\n",
              "\n",
              "<style>\n",
              "  .colab-df-quickchart {\n",
              "      --bg-color: #E8F0FE;\n",
              "      --fill-color: #1967D2;\n",
              "      --hover-bg-color: #E2EBFA;\n",
              "      --hover-fill-color: #174EA6;\n",
              "      --disabled-fill-color: #AAA;\n",
              "      --disabled-bg-color: #DDD;\n",
              "  }\n",
              "\n",
              "  [theme=dark] .colab-df-quickchart {\n",
              "      --bg-color: #3B4455;\n",
              "      --fill-color: #D2E3FC;\n",
              "      --hover-bg-color: #434B5C;\n",
              "      --hover-fill-color: #FFFFFF;\n",
              "      --disabled-bg-color: #3B4455;\n",
              "      --disabled-fill-color: #666;\n",
              "  }\n",
              "\n",
              "  .colab-df-quickchart {\n",
              "    background-color: var(--bg-color);\n",
              "    border: none;\n",
              "    border-radius: 50%;\n",
              "    cursor: pointer;\n",
              "    display: none;\n",
              "    fill: var(--fill-color);\n",
              "    height: 32px;\n",
              "    padding: 0;\n",
              "    width: 32px;\n",
              "  }\n",
              "\n",
              "  .colab-df-quickchart:hover {\n",
              "    background-color: var(--hover-bg-color);\n",
              "    box-shadow: 0 1px 2px rgba(60, 64, 67, 0.3), 0 1px 3px 1px rgba(60, 64, 67, 0.15);\n",
              "    fill: var(--button-hover-fill-color);\n",
              "  }\n",
              "\n",
              "  .colab-df-quickchart-complete:disabled,\n",
              "  .colab-df-quickchart-complete:disabled:hover {\n",
              "    background-color: var(--disabled-bg-color);\n",
              "    fill: var(--disabled-fill-color);\n",
              "    box-shadow: none;\n",
              "  }\n",
              "\n",
              "  .colab-df-spinner {\n",
              "    border: 2px solid var(--fill-color);\n",
              "    border-color: transparent;\n",
              "    border-bottom-color: var(--fill-color);\n",
              "    animation:\n",
              "      spin 1s steps(1) infinite;\n",
              "  }\n",
              "\n",
              "  @keyframes spin {\n",
              "    0% {\n",
              "      border-color: transparent;\n",
              "      border-bottom-color: var(--fill-color);\n",
              "      border-left-color: var(--fill-color);\n",
              "    }\n",
              "    20% {\n",
              "      border-color: transparent;\n",
              "      border-left-color: var(--fill-color);\n",
              "      border-top-color: var(--fill-color);\n",
              "    }\n",
              "    30% {\n",
              "      border-color: transparent;\n",
              "      border-left-color: var(--fill-color);\n",
              "      border-top-color: var(--fill-color);\n",
              "      border-right-color: var(--fill-color);\n",
              "    }\n",
              "    40% {\n",
              "      border-color: transparent;\n",
              "      border-right-color: var(--fill-color);\n",
              "      border-top-color: var(--fill-color);\n",
              "    }\n",
              "    60% {\n",
              "      border-color: transparent;\n",
              "      border-right-color: var(--fill-color);\n",
              "    }\n",
              "    80% {\n",
              "      border-color: transparent;\n",
              "      border-right-color: var(--fill-color);\n",
              "      border-bottom-color: var(--fill-color);\n",
              "    }\n",
              "    90% {\n",
              "      border-color: transparent;\n",
              "      border-bottom-color: var(--fill-color);\n",
              "    }\n",
              "  }\n",
              "</style>\n",
              "\n",
              "      <script>\n",
              "        async function quickchart(key) {\n",
              "          const quickchartButtonEl =\n",
              "            document.querySelector('#' + key + ' button');\n",
              "          quickchartButtonEl.disabled = true;  // To prevent multiple clicks.\n",
              "          quickchartButtonEl.classList.add('colab-df-spinner');\n",
              "          try {\n",
              "            const charts = await google.colab.kernel.invokeFunction(\n",
              "                'suggestCharts', [key], {});\n",
              "          } catch (error) {\n",
              "            console.error('Error during call to suggestCharts:', error);\n",
              "          }\n",
              "          quickchartButtonEl.classList.remove('colab-df-spinner');\n",
              "          quickchartButtonEl.classList.add('colab-df-quickchart-complete');\n",
              "        }\n",
              "        (() => {\n",
              "          let quickchartButtonEl =\n",
              "            document.querySelector('#df-886c09d5-57fe-485b-a538-78436b56cead button');\n",
              "          quickchartButtonEl.style.display =\n",
              "            google.colab.kernel.accessAllowed ? 'block' : 'none';\n",
              "        })();\n",
              "      </script>\n",
              "    </div>\n",
              "\n",
              "    </div>\n",
              "  </div>\n"
            ],
            "application/vnd.google.colaboratory.intrinsic+json": {
              "type": "dataframe",
              "variable_name": "imp_final"
            }
          },
          "metadata": {},
          "execution_count": 11
        }
      ]
    },
    {
      "cell_type": "code",
      "source": [
        "ncm.info()"
      ],
      "metadata": {
        "id": "j7um5DNYS5Xu",
        "colab": {
          "base_uri": "https://localhost:8080/"
        },
        "outputId": "294cb5a2-4d26-4705-9f31-85f3effe5024"
      },
      "execution_count": 12,
      "outputs": [
        {
          "output_type": "stream",
          "name": "stdout",
          "text": [
            "<class 'pandas.core.frame.DataFrame'>\n",
            "RangeIndex: 13720 entries, 0 to 13719\n",
            "Data columns (total 14 columns):\n",
            " #   Column          Non-Null Count  Dtype  \n",
            "---  ------          --------------  -----  \n",
            " 0   CO_NCM          13720 non-null  int64  \n",
            " 1   CO_UNID         13720 non-null  int64  \n",
            " 2   CO_SH6          13720 non-null  int64  \n",
            " 3   CO_PPE          13418 non-null  float64\n",
            " 4   CO_PPI          13418 non-null  float64\n",
            " 5   CO_FAT_AGREG    13699 non-null  float64\n",
            " 6   CO_CUCI_ITEM    13720 non-null  object \n",
            " 7   CO_CGCE_N3      13720 non-null  int64  \n",
            " 8   CO_SIIT         13418 non-null  float64\n",
            " 9   CO_ISIC_CLASSE  13720 non-null  int64  \n",
            " 10  CO_EXP_SUBSET   13417 non-null  float64\n",
            " 11  NO_NCM_POR      13720 non-null  object \n",
            " 12  NO_NCM_ESP      13720 non-null  object \n",
            " 13  NO_NCM_ING      13720 non-null  object \n",
            "dtypes: float64(5), int64(5), object(4)\n",
            "memory usage: 1.5+ MB\n"
          ]
        }
      ]
    },
    {
      "cell_type": "code",
      "source": [
        "imp = imp.merge(ncm[['CO_NCM', 'NO_NCM_POR']], on='CO_NCM', how='left')"
      ],
      "metadata": {
        "id": "eqeviqY1S5B3"
      },
      "execution_count": 19,
      "outputs": []
    },
    {
      "cell_type": "code",
      "source": [
        "imp = imp[imp['SG_UF_NCM'] != 'ND'].copy()"
      ],
      "metadata": {
        "id": "q54gNgqURTi0"
      },
      "execution_count": 20,
      "outputs": []
    },
    {
      "cell_type": "code",
      "source": [
        "imp.loc[:, 'VA'] = imp['VL_FOB']/imp['KG_LIQUIDO']"
      ],
      "metadata": {
        "id": "BkrJTusXRvcN"
      },
      "execution_count": 21,
      "outputs": []
    },
    {
      "cell_type": "code",
      "source": [
        "imp = imp.dropna(subset=['VA'])\n",
        "imp = imp[imp['VA'] != float('inf')]"
      ],
      "metadata": {
        "id": "MabYB0l1R6v3"
      },
      "execution_count": 22,
      "outputs": []
    },
    {
      "cell_type": "code",
      "source": [
        "imp.to_csv(destino + 'imp_final.csv', index=False)"
      ],
      "metadata": {
        "id": "L2UISeg3Vz8N"
      },
      "execution_count": null,
      "outputs": []
    }
  ]
}